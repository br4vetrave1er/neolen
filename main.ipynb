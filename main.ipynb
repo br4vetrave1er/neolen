{
 "cells": [
  {
   "cell_type": "code",
   "execution_count": 71,
   "metadata": {},
   "outputs": [],
   "source": [
    "# Import Langchain modules\n",
    "from langchain.document_loaders import PyPDFLoader,TextLoader\n",
    "from langchain.text_splitter import RecursiveCharacterTextSplitter\n",
    "from langchain_openai import OpenAIEmbeddings, ChatOpenAI\n",
    "from langchain_chroma import Chroma\n",
    "from langchain_core.runnables import RunnablePassthrough\n",
    "from langchain_core.prompts import ChatPromptTemplate\n",
    "from pydantic import BaseModel, Field\n",
    "from langchain.schema import BaseOutputParser\n",
    "\n",
    "# Other modules and packages\n",
    "import os\n",
    "import tempfile\n",
    "import pandas as pd\n",
    "from dotenv import load_dotenv\n",
    "\n",
    "from pdf2image import convert_from_path\n",
    "import pytesseract as pt\n",
    "from PIL import Image"
   ]
  },
  {
   "cell_type": "markdown",
   "metadata": {},
   "source": [
    "### Extracting content from pdf\n",
    "\n",
    "content from pdf is extracted using pytessareact and saved in txt format"
   ]
  },
  {
   "cell_type": "code",
   "execution_count": 54,
   "metadata": {},
   "outputs": [],
   "source": [
    "\n",
    "\n",
    "def extract_text_from_pdf(pdf_path):\n",
    "    pages = convert_from_path(pdf_path)\n",
    "    text_content = []\n",
    "\n",
    "    for page_number, page in enumerate(pages, 1):\n",
    "        text = pt.image_to_string(page)\n",
    "        text_content.append(f'Page {page_number}: \\n {text} \\n')\n",
    "\n",
    "    \n",
    "    return '\\n'.join(text_content)\n",
    "\n",
    "\n",
    "\n"
   ]
  },
  {
   "cell_type": "code",
   "execution_count": 55,
   "metadata": {},
   "outputs": [],
   "source": [
    "# cleaning data extracted from pdf \n",
    "# converting data to ascii format for recognition within LLM and embeddings\n",
    "def clean_text(text):\n",
    "    # Remove or replace problematic characters\n",
    "    cleaned_text = ''\n",
    "    for char in text:\n",
    "        try:\n",
    "            # Try to encode the character to check if it's valid\n",
    "            char.encode('ascii')\n",
    "            cleaned_text += char\n",
    "        except UnicodeEncodeError:\n",
    "            # Skip the problematic character\n",
    "            continue\n",
    "    return cleaned_text"
   ]
  },
  {
   "cell_type": "code",
   "execution_count": 56,
   "metadata": {},
   "outputs": [],
   "source": [
    "# saving data to txt file\n",
    "def save_data_to_file(data, output_path):\n",
    "    print(\"writing data to file\")\n",
    "    with open(output_path, 'w', encoding='ascii') as file:\n",
    "        file.write(data)\n",
    "\n",
    "    file.close()\n",
    "    print(\"file save! Operation complete\")"
   ]
  },
  {
   "cell_type": "code",
   "execution_count": 57,
   "metadata": {},
   "outputs": [
    {
     "name": "stdout",
     "output_type": "stream",
     "text": [
      "writing data to file\n",
      "file save! Operation complete\n"
     ]
    }
   ],
   "source": [
    "PDF_PATH = \"data/bill_of_items.pdf\"\n",
    "OUTPUT_PATH = \"data/extracted_text.txt\"\n",
    "\n",
    "data = extract_text_from_pdf(PDF_PATH)\n",
    "cleaned_data = clean_text(data)\n",
    "save_data_to_file(cleaned_data, OUTPUT_PATH)"
   ]
  },
  {
   "cell_type": "markdown",
   "metadata": {},
   "source": [
    "#### Loading API Key from Enviourment Variables\n"
   ]
  },
  {
   "cell_type": "code",
   "execution_count": 58,
   "metadata": {},
   "outputs": [],
   "source": [
    "load_dotenv()\n",
    "OPENAI_API_KEY =os.environ.get(\"OPENAI_API_KEY\")"
   ]
  },
  {
   "cell_type": "markdown",
   "metadata": {},
   "source": [
    "### Creating an instance of LLM\n"
   ]
  },
  {
   "cell_type": "code",
   "execution_count": 59,
   "metadata": {},
   "outputs": [],
   "source": [
    "# llm instasnace for text extraction\n",
    "llm = ChatOpenAI(model=\"gpt-4o-mini\", api_key=OPENAI_API_KEY)"
   ]
  },
  {
   "cell_type": "code",
   "execution_count": 60,
   "metadata": {},
   "outputs": [
    {
     "data": {
      "text/plain": [
       "AIMessage(content='Why was the cat sitting on the computer?\\n\\nBecause it wanted to keep an eye on the mouse!', additional_kwargs={'refusal': None}, response_metadata={'token_usage': {'completion_tokens': 20, 'prompt_tokens': 13, 'total_tokens': 33, 'completion_tokens_details': {'accepted_prediction_tokens': 0, 'audio_tokens': 0, 'reasoning_tokens': 0, 'rejected_prediction_tokens': 0}, 'prompt_tokens_details': {'audio_tokens': 0, 'cached_tokens': 0}}, 'model_name': 'gpt-4o-mini-2024-07-18', 'system_fingerprint': 'fp_0ba0d124f1', 'finish_reason': 'stop', 'logprobs': None}, id='run-419e48bb-6eff-40f0-822d-61875b4f352a-0', usage_metadata={'input_tokens': 13, 'output_tokens': 20, 'total_tokens': 33, 'input_token_details': {'audio': 0, 'cache_read': 0}, 'output_token_details': {'audio': 0, 'reasoning': 0}})"
      ]
     },
     "execution_count": 60,
     "metadata": {},
     "output_type": "execute_result"
    }
   ],
   "source": [
    "# Testing working of llm model\n",
    "llm.invoke(\"Tell me a joke about cats\")"
   ]
  },
  {
   "cell_type": "markdown",
   "metadata": {},
   "source": [
    "### Data Preprocessing\n",
    "\n",
    "loading data, creating neccesary embedding storing them in vector database\n"
   ]
  },
  {
   "cell_type": "code",
   "execution_count": null,
   "metadata": {},
   "outputs": [],
   "source": [
    "# loading data from txt file after extraction from OCR\n",
    "\n",
    "loader = TextLoader(\"data/extracted_text.txt\")\n",
    "pages = loader.load()\n",
    "pages"
   ]
  },
  {
   "cell_type": "code",
   "execution_count": 61,
   "metadata": {},
   "outputs": [],
   "source": [
    "# splitting text into chunks for creating good embeddings and staying under limit of LLM\n",
    "text_splitter = RecursiveCharacterTextSplitter(chunk_size=1000,\n",
    "                                               chunk_overlap=200,\n",
    "                                               length_function=len,\n",
    "                                               separators=[\"\\n\\n\", \"\\n\", \" \"])\n",
    "chunks = text_splitter.split_documents(pages)"
   ]
  },
  {
   "cell_type": "markdown",
   "metadata": {},
   "source": [
    "### Embedding Generation"
   ]
  },
  {
   "cell_type": "code",
   "execution_count": 62,
   "metadata": {},
   "outputs": [],
   "source": [
    "\n",
    "# for embeddings creation\n",
    "def get_embedding_function():\n",
    "    embeddings = OpenAIEmbeddings(\n",
    "        model=\"text-embedding-ada-002\", openai_api_key=OPENAI_API_KEY\n",
    "    )\n",
    "\n",
    "    return embeddings\n",
    "\n",
    "embedding_function = get_embedding_function()\n"
   ]
  },
  {
   "cell_type": "code",
   "execution_count": 63,
   "metadata": {},
   "outputs": [],
   "source": [
    "# saving embeddings to a vector store\n",
    "import uuid\n",
    "\n",
    "def create_vectorstore(chunks, embedding_function, vectorstore_path):\n",
    "\n",
    "    # Create a list of unique ids for each document based on the content\n",
    "    ids = [str(uuid.uuid5(uuid.NAMESPACE_DNS, doc.page_content)) for doc in chunks]\n",
    "    \n",
    "    # Ensure that only unique docs with unique ids are kept\n",
    "    unique_ids = set()\n",
    "    unique_chunks = []\n",
    "    \n",
    "    unique_chunks = [] \n",
    "    for chunk, id in zip(chunks, ids):     \n",
    "        if id not in unique_ids:       \n",
    "            unique_ids.add(id)\n",
    "            unique_chunks.append(chunk) \n",
    "\n",
    "    # Create a new Chroma database from the documents\n",
    "    vectorstore = Chroma.from_documents(documents=unique_chunks, \n",
    "                                        ids=list(unique_ids),\n",
    "                                        embedding=embedding_function, \n",
    "                                        persist_directory = vectorstore_path)\n",
    "\n",
    "    \n",
    "    return vectorstore"
   ]
  },
  {
   "cell_type": "code",
   "execution_count": 64,
   "metadata": {},
   "outputs": [],
   "source": [
    "# Create vectorstore\n",
    "vectorstore = create_vectorstore(chunks=chunks, \n",
    "                                 embedding_function=embedding_function, \n",
    "                                 vectorstore_path=\"vectorstore_test3\")"
   ]
  },
  {
   "cell_type": "code",
   "execution_count": 65,
   "metadata": {},
   "outputs": [],
   "source": [
    "# Load vectorstore\n",
    "vectorstore = Chroma(persist_directory=\"vectorstore_test3\", embedding_function=embedding_function)"
   ]
  },
  {
   "cell_type": "code",
   "execution_count": 66,
   "metadata": {},
   "outputs": [
    {
     "name": "stderr",
     "output_type": "stream",
     "text": [
      "Number of requested results 5 is greater than number of elements in index 4, updating n_results = 4\n"
     ]
    },
    {
     "data": {
      "text/plain": [
       "[Document(metadata={'source': 'data/extracted_text.txt'}, page_content='Page 1: \\n Final Bill\\n\\nName: Mrs, BHUVANESHWARI V i  y\\nAge/Gender: 27 Y F & Chile\\nAddress: NO,23, 2NDMAIN, 2ND STAGE, WOC ROAD, MAHALAKSHMIPURAM POST MR No: fen ie\\n\\nLocation: BANGALORE,KARNATAKA. Visit ID;\\n\\nDoctor: Dr. BHARATHI RAJANNA Admission Date: seeptl\\n\\nDepartment: Obstetrics & Gynaecology Ward/Bed DEL\\n\\nRate Plan: Cradle Rajaji Nagar Gen_25012023 Discharge Date:\\n\\nSponsor: Referred By: i} 08 | ATH] RAJANNA\\n\\nBill No: RRAJ-ICR-822(Bill Later) Bill Date:08-06-2024\\n\\nCharges Ord# Head Description Rate Qty Amount\\n\\nPackages\\n\\n08-06-2024 Package Charges Lscs 106,000.00 i 106,000.00\\nSub Total: 106,000.00\\n\\nDiagnostics\\n\\n08-06-2024 16166221 Lab Tests HCV Tri Dot 495,00 1.00 495.00\\n\\n08-06-2024 16166221 Lab Tests HIV RAPID 1,731.00 1,00 1,731.00\\n\\n08-06-2024 16166221 Lab Tests (VDRL) RPR QUALITATIVE- SERUM 440.00 1.00 440.00\\n\\n08-06-2024 16166221  Lab Tests HBS AG SCREENING(RAPID) 1,327.00 1,00 1,327.00\\nSub Total: 3,993.00\\n\\nServices & Procedures'),\n",
       " Document(metadata={'source': 'data/extracted_text.txt'}, page_content='08-06-2024 16166221  Lab Tests HBS AG SCREENING(RAPID) 1,327.00 1,00 1,327.00\\nSub Total: 3,993.00\\n\\nServices & Procedures\\n\\n11-06-2024 Service LACTATION CONSULTATION CHARGES 1,100.00 1.00 1,100.00\\n\\n11-06-2024 Service PHYSIOTHERAPY CONSULTATION 1,100.00 1.00 1,100.00\\n\\n11-06-2024 Service DIET CHARGES 1,000.00 3.00 3,000.00\\n\\n11-06-2024 Service DOCUMENT PROCESSING FEE 1,000.00 1.00 1,000.00\\n\\n11-06-2024 Service DIET COUNCELING CHARGE 1,100.00 1.00 1,100.00\\n\\n11-06-2024 Service INFECTION PREVENTION IN IPD 200.00 3.00 600.00\\n\\n11-06-2024 Service MEDICAL RECORDS 550.00. 1,00 $50.00\\nSub Total: 8,450.00\\n\\nItems\\n9; . SYRINGE IML - ROMSON\\n\\n09-06-2024 Inventory Item (No. 2545016) 8.00 1,00 8.00\\n90183100 SYRINGE SML ROMOJET -\\n\\n09-06-2024 Inventory Item ROMSON - MLP6732 21.00 2.00 42.00\\n(No. 2545016)\\nSYRINGE 2ML ROMOJET - ROMSON -\\n\\n09-06-2024 Inventory Item MLPS903 15.00 2.00 30,00\\n\\n(No. 2545016)\\n\\n90189099 DC ALCOHOL SWAB\\n\\n(No. 2545016)\\n\\nSYRINGE 10ML ROMOJET - ROMSON -'),\n",
       " Document(metadata={'source': 'data/output.txt'}, page_content='Packages\\n\\n08-06-2024 Package Charges Lscs 106,000.00 i 106,000.00\\nSub Total: 106,000.00\\n\\nDiagnostics\\n\\n08-06-2024 16166221 Lab Tests HCV Tri Dot 495,00 1.00 495.00\\n\\n08-06-2024 16166221 Lab Tests HIV RAPID 1,731.00 1,00 1,731.00\\n\\n08-06-2024 16166221 Lab Tests (VDRL) RPR QUALITATIVE- SERUM 440.00 1.00 440.00\\n\\n08-06-2024 16166221  Lab Tests HBS AG SCREENING(RAPID) 1,327.00 1,00 1,327.00\\nSub Total: 3,993.00\\n\\nServices & Procedures\\n\\n11-06-2024 Service LACTATION CONSULTATION CHARGES 1,100.00 1.00 1,100.00\\n\\n11-06-2024 Service PHYSIOTHERAPY CONSULTATION 1,100.00 1.00 1,100.00\\n\\n11-06-2024 Service DIET CHARGES 1,000.00 3.00 3,000.00\\n\\n11-06-2024 Service DOCUMENT PROCESSING FEE 1,000.00 1.00 1,000.00\\n\\n11-06-2024 Service DIET COUNCELING CHARGE 1,100.00 1.00 1,100.00\\n\\n11-06-2024 Service INFECTION PREVENTION IN IPD 200.00 3.00 600.00\\n\\n11-06-2024 Service MEDICAL RECORDS 550.00. 1,00 $50.00\\nSub Total: 8,450.00'),\n",
       " Document(metadata={'source': 'data/extracted_text.txt'}, page_content='09-06-2024 Inventory Item MLPS903 15.00 2.00 30,00\\n\\n(No. 2545016)\\n\\n90189099 DC ALCOHOL SWAB\\n\\n(No. 2545016)\\n\\nSYRINGE 10ML ROMOJET - ROMSON -\\n\\n09-06-2024 Inventory Item MLP7742 17.00 2.00 34.00\\n(No. 2545016)\\n9018 DISPOSABLE SKIN PREPARATION\\n\\n09-06-2024 Inventory Item BLADE EASY GLIDE -ROMSON - MLP1980 39.00 2.00 78.00\\n\\n(No. 2545016)\\n\\n48211010 PATIENT ID BAND PINK[ADULT]\\n\\n(No. 2545016)\\n\\n48189000 DC UNDER PAD 60*90CM -\\n\\n09-06-2024 Inventory Item MLP1782 99.00 2.00 198.00\\n(No. 2545016)\\n30051090 DC HAND&SKIN SOOML\\n\\n09-06-2024 Inventory Item DISINFECTANT +PUMP 410,00 1.00 410.00\\n(No. 2545016)\\n\\nne\\ni\\nS\\n\\n09-06-2024 Inventory Item 2.00 440\\n\\n09-06-2024 Inventory Item 15.00 1.00 15.00\\n\\nAddress: Apollo Cradle & Childrens Hospital, 25/5, 1\" Main Road, E Block Subramanya Na\\n\\nApollo Snecialtv Hosnitals Private | imi')]"
      ]
     },
     "execution_count": 66,
     "metadata": {},
     "output_type": "execute_result"
    }
   ],
   "source": [
    "# Create retriever and get relevant chunks\n",
    "retriever = vectorstore.as_retriever(\n",
    "    search_type=\"similarity\",\n",
    "    search_kwargs={\"k\": 5}  # Increase k for more documents\n",
    ")\n",
    "relevant_chunks = retriever.invoke(\"what are tests mentioned\")\n",
    "relevant_chunks"
   ]
  },
  {
   "cell_type": "markdown",
   "metadata": {},
   "source": [
    "### Promt Template\n"
   ]
  },
  {
   "cell_type": "code",
   "execution_count": 67,
   "metadata": {},
   "outputs": [],
   "source": [
    "PROMPT_TEMPLATE = \"\"\"\n",
    "You are a highly skilled information extraction model.\n",
    "\n",
    "Extract all items under \"Diagnostics,\" \"items,\" and \"Services & Procedures\" sections from the document below.\n",
    "Some item names may start with a number. Each item should include the following details, if available: date, code, name, rate, quantity, and amount.\n",
    "\n",
    "If there are multiple items in a section, list each item separately in the output.\n",
    "\n",
    "**If an item is not formatted as expected (e.g., if the date or \"Inventory Item\" appears later in the text), reorder it so that it follows this structure:**\n",
    "- **[Date] Inventory Item [Item Code] [Item Name] [Details] [Rate] [Quantity] [Amount] ([Reference No.])**\n",
    "\n",
    "Ensure that extracted information is provided consistently according to this ordering.\n",
    "Return the results as a JSON array with each item having the keys: name, rate, quantity, and amount.\n",
    "\n",
    "Document:\n",
    "----------------\n",
    "{context}\n",
    "----------------\n",
    "\n",
    "\"\"\"\n",
    "\n"
   ]
  },
  {
   "cell_type": "markdown",
   "metadata": {},
   "source": [
    "#### Adding text from pdf to the prompt"
   ]
  },
  {
   "cell_type": "code",
   "execution_count": 68,
   "metadata": {},
   "outputs": [
    {
     "name": "stdout",
     "output_type": "stream",
     "text": [
      "\n",
      "You are a highly skilled information extraction model.\n",
      "\n",
      "Extract all items under \"Diagnostics,\" \"items,\" and \"Services & Procedures\" sections from the document below.\n",
      "Some item names may start with a number. Each item should include the following details, if available: date, code, name, rate, quantity, and amount.\n",
      "\n",
      "If there are multiple items in a section, list each item separately in the output.\n",
      "\n",
      "**If an item is not formatted as expected (e.g., if the date or \"Inventory Item\" appears later in the text), reorder it so that it follows this structure:**\n",
      "- **[Date] Inventory Item [Item Code] [Item Name] [Details] [Rate] [Quantity] [Amount] ([Reference No.])**\n",
      "\n",
      "Ensure that extracted information is provided consistently according to this ordering.\n",
      "Return the results as a JSON array with each item having the keys: name, rate, quantity, and amount.\n",
      "\n",
      "Document:\n",
      "----------------\n",
      "Page 1: \n",
      " Final Bill\n",
      "\n",
      "Name: Mrs, BHUVANESHWARI V i  y\n",
      "Age/Gender: 27 Y F & Chile\n",
      "Address: NO,23, 2NDMAIN, 2ND STAGE, WOC ROAD, MAHALAKSHMIPURAM POST MR No: fen ie\n",
      "\n",
      "Location: BANGALORE,KARNATAKA. Visit ID;\n",
      "\n",
      "Doctor: Dr. BHARATHI RAJANNA Admission Date: seeptl\n",
      "\n",
      "Department: Obstetrics & Gynaecology Ward/Bed DEL\n",
      "\n",
      "Rate Plan: Cradle Rajaji Nagar Gen_25012023 Discharge Date:\n",
      "\n",
      "Sponsor: Referred By: i} 08 | ATH] RAJANNA\n",
      "\n",
      "Bill No: RRAJ-ICR-822(Bill Later) Bill Date:08-06-2024\n",
      "\n",
      "Charges Ord# Head Description Rate Qty Amount\n",
      "\n",
      "Packages\n",
      "\n",
      "08-06-2024 Package Charges Lscs 106,000.00 i 106,000.00\n",
      "Sub Total: 106,000.00\n",
      "\n",
      "Diagnostics\n",
      "\n",
      "08-06-2024 16166221 Lab Tests HCV Tri Dot 495,00 1.00 495.00\n",
      "\n",
      "08-06-2024 16166221 Lab Tests HIV RAPID 1,731.00 1,00 1,731.00\n",
      "\n",
      "08-06-2024 16166221 Lab Tests (VDRL) RPR QUALITATIVE- SERUM 440.00 1.00 440.00\n",
      "\n",
      "08-06-2024 16166221  Lab Tests HBS AG SCREENING(RAPID) 1,327.00 1,00 1,327.00\n",
      "Sub Total: 3,993.00\n",
      "\n",
      "Services & Procedures\n",
      "\n",
      "---\n",
      "\n",
      "08-06-2024 16166221  Lab Tests HBS AG SCREENING(RAPID) 1,327.00 1,00 1,327.00\n",
      "Sub Total: 3,993.00\n",
      "\n",
      "Services & Procedures\n",
      "\n",
      "11-06-2024 Service LACTATION CONSULTATION CHARGES 1,100.00 1.00 1,100.00\n",
      "\n",
      "11-06-2024 Service PHYSIOTHERAPY CONSULTATION 1,100.00 1.00 1,100.00\n",
      "\n",
      "11-06-2024 Service DIET CHARGES 1,000.00 3.00 3,000.00\n",
      "\n",
      "11-06-2024 Service DOCUMENT PROCESSING FEE 1,000.00 1.00 1,000.00\n",
      "\n",
      "11-06-2024 Service DIET COUNCELING CHARGE 1,100.00 1.00 1,100.00\n",
      "\n",
      "11-06-2024 Service INFECTION PREVENTION IN IPD 200.00 3.00 600.00\n",
      "\n",
      "11-06-2024 Service MEDICAL RECORDS 550.00. 1,00 $50.00\n",
      "Sub Total: 8,450.00\n",
      "\n",
      "Items\n",
      "9; . SYRINGE IML - ROMSON\n",
      "\n",
      "09-06-2024 Inventory Item (No. 2545016) 8.00 1,00 8.00\n",
      "90183100 SYRINGE SML ROMOJET -\n",
      "\n",
      "09-06-2024 Inventory Item ROMSON - MLP6732 21.00 2.00 42.00\n",
      "(No. 2545016)\n",
      "SYRINGE 2ML ROMOJET - ROMSON -\n",
      "\n",
      "09-06-2024 Inventory Item MLPS903 15.00 2.00 30,00\n",
      "\n",
      "(No. 2545016)\n",
      "\n",
      "90189099 DC ALCOHOL SWAB\n",
      "\n",
      "(No. 2545016)\n",
      "\n",
      "SYRINGE 10ML ROMOJET - ROMSON -\n",
      "\n",
      "---\n",
      "\n",
      "Packages\n",
      "\n",
      "08-06-2024 Package Charges Lscs 106,000.00 i 106,000.00\n",
      "Sub Total: 106,000.00\n",
      "\n",
      "Diagnostics\n",
      "\n",
      "08-06-2024 16166221 Lab Tests HCV Tri Dot 495,00 1.00 495.00\n",
      "\n",
      "08-06-2024 16166221 Lab Tests HIV RAPID 1,731.00 1,00 1,731.00\n",
      "\n",
      "08-06-2024 16166221 Lab Tests (VDRL) RPR QUALITATIVE- SERUM 440.00 1.00 440.00\n",
      "\n",
      "08-06-2024 16166221  Lab Tests HBS AG SCREENING(RAPID) 1,327.00 1,00 1,327.00\n",
      "Sub Total: 3,993.00\n",
      "\n",
      "Services & Procedures\n",
      "\n",
      "11-06-2024 Service LACTATION CONSULTATION CHARGES 1,100.00 1.00 1,100.00\n",
      "\n",
      "11-06-2024 Service PHYSIOTHERAPY CONSULTATION 1,100.00 1.00 1,100.00\n",
      "\n",
      "11-06-2024 Service DIET CHARGES 1,000.00 3.00 3,000.00\n",
      "\n",
      "11-06-2024 Service DOCUMENT PROCESSING FEE 1,000.00 1.00 1,000.00\n",
      "\n",
      "11-06-2024 Service DIET COUNCELING CHARGE 1,100.00 1.00 1,100.00\n",
      "\n",
      "11-06-2024 Service INFECTION PREVENTION IN IPD 200.00 3.00 600.00\n",
      "\n",
      "11-06-2024 Service MEDICAL RECORDS 550.00. 1,00 $50.00\n",
      "Sub Total: 8,450.00\n",
      "\n",
      "---\n",
      "\n",
      "09-06-2024 Inventory Item MLPS903 15.00 2.00 30,00\n",
      "\n",
      "(No. 2545016)\n",
      "\n",
      "90189099 DC ALCOHOL SWAB\n",
      "\n",
      "(No. 2545016)\n",
      "\n",
      "SYRINGE 10ML ROMOJET - ROMSON -\n",
      "\n",
      "09-06-2024 Inventory Item MLP7742 17.00 2.00 34.00\n",
      "(No. 2545016)\n",
      "9018 DISPOSABLE SKIN PREPARATION\n",
      "\n",
      "09-06-2024 Inventory Item BLADE EASY GLIDE -ROMSON - MLP1980 39.00 2.00 78.00\n",
      "\n",
      "(No. 2545016)\n",
      "\n",
      "48211010 PATIENT ID BAND PINK[ADULT]\n",
      "\n",
      "(No. 2545016)\n",
      "\n",
      "48189000 DC UNDER PAD 60*90CM -\n",
      "\n",
      "09-06-2024 Inventory Item MLP1782 99.00 2.00 198.00\n",
      "(No. 2545016)\n",
      "30051090 DC HAND&SKIN SOOML\n",
      "\n",
      "09-06-2024 Inventory Item DISINFECTANT +PUMP 410,00 1.00 410.00\n",
      "(No. 2545016)\n",
      "\n",
      "ne\n",
      "i\n",
      "S\n",
      "\n",
      "09-06-2024 Inventory Item 2.00 440\n",
      "\n",
      "09-06-2024 Inventory Item 15.00 1.00 15.00\n",
      "\n",
      "Address: Apollo Cradle & Childrens Hospital, 25/5, 1\" Main Road, E Block Subramanya Na\n",
      "\n",
      "Apollo Snecialtv Hosnitals Private | imi\n",
      "----------------\n",
      "\n",
      "\n"
     ]
    }
   ],
   "source": [
    "# Concatenate context text\n",
    "context_text = \"\\n\\n---\\n\\n\".join([doc.page_content for doc in relevant_chunks])\n",
    "\n",
    "# Create prompt\n",
    "prompt_template = ChatPromptTemplate.from_template(PROMPT_TEMPLATE)\n",
    "prompt = PROMPT_TEMPLATE.format(context=context_text, )\n",
    "print(prompt)"
   ]
  },
  {
   "cell_type": "markdown",
   "metadata": {},
   "source": [
    "### Output Schema"
   ]
  },
  {
   "cell_type": "code",
   "execution_count": null,
   "metadata": {},
   "outputs": [],
   "source": [
    "# using pydantic to create ouput schema for LLM\n",
    "from typing import Optional\n",
    "from pydantic import BaseModel, Field\n",
    "\n",
    "class Equipments(BaseModel):\n",
    "    \"\"\" \n",
    "    Information about a medical equipment, service, or test.\n",
    "    \"\"\"\n",
    "    name: str = Field(description=\"Name of equipment/service/test\")\n",
    "    quantity: Optional[int] = Field(default=None, description=\"Quantity of each product\")\n",
    "    rate: Optional[float] = Field(default=None, description=\"Rate of a product\")\n",
    "    amount: Optional[float] = Field(default=None, description=\"Multiplication of rate and quantity\")\n",
    "\n",
    "\n",
    "\n"
   ]
  },
  {
   "cell_type": "markdown",
   "metadata": {},
   "source": [
    "## Invoking Model"
   ]
  },
  {
   "cell_type": "code",
   "execution_count": 69,
   "metadata": {},
   "outputs": [
    {
     "name": "stdout",
     "output_type": "stream",
     "text": [
      "content='```json\\n[\\n    {\\n        \"name\": \"HCV Tri Dot\",\\n        \"rate\": \"495.00\",\\n        \"quantity\": \"1.00\",\\n        \"amount\": \"495.00\"\\n    },\\n    {\\n        \"name\": \"HIV RAPID\",\\n        \"rate\": \"1,731.00\",\\n        \"quantity\": \"1.00\",\\n        \"amount\": \"1,731.00\"\\n    },\\n    {\\n        \"name\": \"(VDRL) RPR QUALITATIVE- SERUM\",\\n        \"rate\": \"440.00\",\\n        \"quantity\": \"1.00\",\\n        \"amount\": \"440.00\"\\n    },\\n    {\\n        \"name\": \"HBS AG SCREENING(RAPID)\",\\n        \"rate\": \"1,327.00\",\\n        \"quantity\": \"1.00\",\\n        \"amount\": \"1,327.00\"\\n    },\\n    {\\n        \"name\": \"LACTATION CONSULTATION CHARGES\",\\n        \"rate\": \"1,100.00\",\\n        \"quantity\": \"1.00\",\\n        \"amount\": \"1,100.00\"\\n    },\\n    {\\n        \"name\": \"PHYSIOTHERAPY CONSULTATION\",\\n        \"rate\": \"1,100.00\",\\n        \"quantity\": \"1.00\",\\n        \"amount\": \"1,100.00\"\\n    },\\n    {\\n        \"name\": \"DIET CHARGES\",\\n        \"rate\": \"1,000.00\",\\n        \"quantity\": \"3.00\",\\n        \"amount\": \"3,000.00\"\\n    },\\n    {\\n        \"name\": \"DOCUMENT PROCESSING FEE\",\\n        \"rate\": \"1,000.00\",\\n        \"quantity\": \"1.00\",\\n        \"amount\": \"1,000.00\"\\n    },\\n    {\\n        \"name\": \"DIET COUNCELING CHARGE\",\\n        \"rate\": \"1,100.00\",\\n        \"quantity\": \"1.00\",\\n        \"amount\": \"1,100.00\"\\n    },\\n    {\\n        \"name\": \"INFECTION PREVENTION IN IPD\",\\n        \"rate\": \"200.00\",\\n        \"quantity\": \"3.00\",\\n        \"amount\": \"600.00\"\\n    },\\n    {\\n        \"name\": \"MEDICAL RECORDS\",\\n        \"rate\": \"550.00\",\\n        \"quantity\": \"1.00\",\\n        \"amount\": \"550.00\"\\n    },\\n    {\\n        \"name\": \"SYRINGE IML - ROMSON\",\\n        \"rate\": \"8.00\",\\n        \"quantity\": \"1.00\",\\n        \"amount\": \"8.00\"\\n    },\\n    {\\n        \"name\": \"SYRINGE SML ROMOJET -\",\\n        \"rate\": \"21.00\",\\n        \"quantity\": \"2.00\",\\n        \"amount\": \"42.00\"\\n    },\\n    {\\n        \"name\": \"SYRINGE 2ML ROMOJET - ROMSON -\",\\n        \"rate\": \"15.00\",\\n        \"quantity\": \"2.00\",\\n        \"amount\": \"30.00\"\\n    },\\n    {\\n        \"name\": \"SYRINGE 10ML ROMOJET - ROMSON -\",\\n        \"rate\": \"17.00\",\\n        \"quantity\": \"2.00\",\\n        \"amount\": \"34.00\"\\n    },\\n    {\\n        \"name\": \"DISPOSABLE SKIN PREPARATION\",\\n        \"rate\": \"39.00\",\\n        \"quantity\": \"2.00\",\\n        \"amount\": \"78.00\"\\n    },\\n    {\\n        \"name\": \"DC UNDER PAD 60*90CM -\",\\n        \"rate\": \"99.00\",\\n        \"quantity\": \"2.00\",\\n        \"amount\": \"198.00\"\\n    },\\n    {\\n        \"name\": \"DC HAND&SKIN SOOML\",\\n        \"rate\": \"410.00\",\\n        \"quantity\": \"1.00\",\\n        \"amount\": \"410.00\"\\n    }\\n]\\n```' additional_kwargs={'refusal': None} response_metadata={'token_usage': {'completion_tokens': 847, 'prompt_tokens': 1765, 'total_tokens': 2612, 'completion_tokens_details': {'accepted_prediction_tokens': 0, 'audio_tokens': 0, 'reasoning_tokens': 0, 'rejected_prediction_tokens': 0}, 'prompt_tokens_details': {'audio_tokens': 0, 'cached_tokens': 0}}, 'model_name': 'gpt-4o-mini-2024-07-18', 'system_fingerprint': 'fp_9b78b61c52', 'finish_reason': 'stop', 'logprobs': None} id='run-92869943-0429-4386-b52c-ad2123429df4-0' usage_metadata={'input_tokens': 1765, 'output_tokens': 847, 'total_tokens': 2612, 'input_token_details': {'audio': 0, 'cache_read': 0}, 'output_token_details': {'audio': 0, 'reasoning': 0}}\n"
     ]
    }
   ],
   "source": [
    "result = llm.invoke(input=prompt)\n",
    "print(result)"
   ]
  },
  {
   "cell_type": "code",
   "execution_count": 70,
   "metadata": {},
   "outputs": [
    {
     "name": "stdout",
     "output_type": "stream",
     "text": [
      "Data written to output.txt.\n"
     ]
    }
   ],
   "source": [
    "# saving results from LLm to file for cassification through LightRag\n",
    "import re\n",
    "match = re.search(r'\\[.*?\\]', result.content, re.DOTALL)\n",
    "\n",
    "if match:\n",
    "    # Get the extracted data and clean it up (remove backticks and newlines)\n",
    "    data_in_brackets = match.group(0)\n",
    "    cleaned_data = data_in_brackets.strip().replace(\"`\", \"\").replace(\"\\n\", \"\")\n",
    "\n",
    "    # Replace commas within numbers with periods\n",
    "    cleaned_data = re.sub(r'(\\d+),(\\d+)', r'\\1.\\2', cleaned_data)\n",
    "\n",
    "    # Step 2: Write the cleaned data directly to a .txt file\n",
    "    with open(\"structured_output.txt\", \"w\") as file:\n",
    "        file.write(cleaned_data)\n",
    "\n",
    "    print(\"Data written to output.txt.\")\n",
    "else:\n",
    "    print(\"No content found between square brackets.\")"
   ]
  },
  {
   "cell_type": "markdown",
   "metadata": {},
   "source": [
    "### LightRag use for classification"
   ]
  },
  {
   "cell_type": "code",
   "execution_count": null,
   "metadata": {},
   "outputs": [],
   "source": [
    "from lightrag import LightRAG, QueryParam\n",
    "from lightrag.llm import gpt_4o_complete"
   ]
  },
  {
   "cell_type": "code",
   "execution_count": null,
   "metadata": {},
   "outputs": [],
   "source": [
    "import os\n",
    "\n",
    "from lightrag import LightRAG, QueryParam\n",
    "from lightrag.llm import gpt_4o_mini_complete, gpt_4o_complete\n",
    "\n",
    "#########\n",
    "# Uncomment the below two lines if running in a jupyter notebook to handle the async nature of rag.insert()\n",
    "import nest_asyncio\n",
    "nest_asyncio.apply()\n",
    "#########\n",
    "\n",
    "WORKING_DIR = \"./dickens\"\n",
    "\n",
    "\n",
    "if not os.path.exists(WORKING_DIR):\n",
    "    os.mkdir(WORKING_DIR)\n",
    "\n",
    "rag = LightRAG(\n",
    "    working_dir=WORKING_DIR,\n",
    "    llm_model_func=gpt_4o_mini_complete  # Use gpt_4o_mini_complete LLM model\n",
    "    # llm_model_func=gpt_4o_complete  # Optionally, use a stronger model\n",
    ")\n",
    "\n",
    "with open(\"/content/new_output.txt\") as f:\n",
    "    rag.insert(f.read())\n",
    "\n",
    "# Perform naive search\n",
    "print(rag.query(\"Classify the items in a table as medical or non-medical along with amount, quantity?\", param=QueryParam(mode=\"naive\")))\n",
    "\n",
    "# Perform hybrid search\n",
    "print(rag.query(\"Classify the items in a table as medical or non-medical along with amount, quantity?\", param=QueryParam(mode=\"hybrid\")))"
   ]
  },
  {
   "cell_type": "code",
   "execution_count": null,
   "metadata": {},
   "outputs": [],
   "source": []
  }
 ],
 "metadata": {
  "kernelspec": {
   "display_name": "venv",
   "language": "python",
   "name": "python3"
  },
  "language_info": {
   "codemirror_mode": {
    "name": "ipython",
    "version": 3
   },
   "file_extension": ".py",
   "mimetype": "text/x-python",
   "name": "python",
   "nbconvert_exporter": "python",
   "pygments_lexer": "ipython3",
   "version": "3.12.7"
  }
 },
 "nbformat": 4,
 "nbformat_minor": 2
}
